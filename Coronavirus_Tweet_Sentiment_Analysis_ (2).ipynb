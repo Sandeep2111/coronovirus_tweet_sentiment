{
  "nbformat": 4,
  "nbformat_minor": 0,
  "metadata": {
    "colab": {
      "name": "Coronavirus Tweet Sentiment Analysis .ipynb",
      "provenance": [],
      "collapsed_sections": []
    },
    "kernelspec": {
      "name": "python3",
      "display_name": "Python 3"
    },
    "language_info": {
      "name": "python"
    },
    "accelerator": "GPU"
  },
  "cells": [
    {
      "cell_type": "markdown",
      "metadata": {
        "id": "_jT2tWZNAFPi"
      },
      "source": [
        "#Project Title : Sentiment Analysis : Predicting sentiment of COVID-19 tweets"
      ]
    },
    {
      "cell_type": "markdown",
      "metadata": {
        "id": "p0yJ00ApAJzJ"
      },
      "source": [
        "## <b> Problem Description </b>\n",
        "\n",
        "### This challenge asks you to build a classification model to predict the sentiment of COVID-19 tweets.The tweets have been pulled from Twitter and manual tagging has been done then.\n",
        "\n",
        "### The names and usernames have been given codes to avoid any privacy concerns.\n",
        "\n",
        "### You are given the following information:\n",
        "1. Location\n",
        "2. Tweet At\n",
        "3. Original Tweet\n",
        "4. Label"
      ]
    },
    {
      "cell_type": "markdown",
      "metadata": {
        "id": "v4TBmXvhBIgO"
      },
      "source": [
        "In This Capstone project we will be analysing the sentiment of tweets based on  COVID-19 tweets. Where we will analyse,compile,visulize and summarize the tweet and also perform feature Engineering on tweets. \n",
        "\n",
        "The Main Objective of the Project is to build a classification model which predicts the sentiment of tweets."
      ]
    },
    {
      "cell_type": "code",
      "metadata": {
        "colab": {
          "base_uri": "https://localhost:8080/"
        },
        "id": "CjsVYAPuAG2I",
        "outputId": "5737ba06-a1c4-4c3a-c060-9a33ee688c76"
      },
      "source": [
        "#Import Required libraries\n",
        "import numpy as np\n",
        "import pandas as pd\n",
        "import re\n",
        "import string\n",
        "import nltk\n",
        "import matplotlib.pyplot as plt\n",
        "import seaborn as sns\n",
        "import warnings\n",
        "warnings.filterwarnings(\"ignore\")\n",
        "%matplotlib inline\n",
        "from collections import Counter\n",
        "nltk.download('stopwords')\n",
        "from nltk.corpus import stopwords\n",
        "from nltk.tokenize import word_tokenize\n",
        "nltk.download('punkt')"
      ],
      "execution_count": null,
      "outputs": [
        {
          "output_type": "stream",
          "text": [
            "[nltk_data] Downloading package stopwords to /root/nltk_data...\n",
            "[nltk_data]   Unzipping corpora/stopwords.zip.\n",
            "[nltk_data] Downloading package punkt to /root/nltk_data...\n",
            "[nltk_data]   Unzipping tokenizers/punkt.zip.\n"
          ],
          "name": "stdout"
        },
        {
          "output_type": "execute_result",
          "data": {
            "text/plain": [
              "True"
            ]
          },
          "metadata": {
            "tags": []
          },
          "execution_count": 1
        }
      ]
    },
    {
      "cell_type": "code",
      "metadata": {
        "colab": {
          "base_uri": "https://localhost:8080/",
          "height": 202
        },
        "id": "I96drLbyDzLa",
        "outputId": "502f3125-3656-4308-babc-2144ba60fe78"
      },
      "source": [
        "#Reading dataset\n",
        "tweet_data = pd.read_csv('/content/drive/MyDrive/Colab Notebooks/AlmaBetter/Capstone/Dataset/Coronavirus Tweets.csv',engine='python')\n",
        "tweet_data.head()"
      ],
      "execution_count": null,
      "outputs": [
        {
          "output_type": "execute_result",
          "data": {
            "text/html": [
              "<div>\n",
              "<style scoped>\n",
              "    .dataframe tbody tr th:only-of-type {\n",
              "        vertical-align: middle;\n",
              "    }\n",
              "\n",
              "    .dataframe tbody tr th {\n",
              "        vertical-align: top;\n",
              "    }\n",
              "\n",
              "    .dataframe thead th {\n",
              "        text-align: right;\n",
              "    }\n",
              "</style>\n",
              "<table border=\"1\" class=\"dataframe\">\n",
              "  <thead>\n",
              "    <tr style=\"text-align: right;\">\n",
              "      <th></th>\n",
              "      <th>UserName</th>\n",
              "      <th>ScreenName</th>\n",
              "      <th>Location</th>\n",
              "      <th>TweetAt</th>\n",
              "      <th>OriginalTweet</th>\n",
              "      <th>Sentiment</th>\n",
              "    </tr>\n",
              "  </thead>\n",
              "  <tbody>\n",
              "    <tr>\n",
              "      <th>0</th>\n",
              "      <td>3799</td>\n",
              "      <td>48751</td>\n",
              "      <td>London</td>\n",
              "      <td>16-03-2020</td>\n",
              "      <td>@MeNyrbie @Phil_Gahan @Chrisitv https://t.co/i...</td>\n",
              "      <td>Neutral</td>\n",
              "    </tr>\n",
              "    <tr>\n",
              "      <th>1</th>\n",
              "      <td>3800</td>\n",
              "      <td>48752</td>\n",
              "      <td>UK</td>\n",
              "      <td>16-03-2020</td>\n",
              "      <td>advice Talk to your neighbours family to excha...</td>\n",
              "      <td>Positive</td>\n",
              "    </tr>\n",
              "    <tr>\n",
              "      <th>2</th>\n",
              "      <td>3801</td>\n",
              "      <td>48753</td>\n",
              "      <td>Vagabonds</td>\n",
              "      <td>16-03-2020</td>\n",
              "      <td>Coronavirus Australia: Woolworths to give elde...</td>\n",
              "      <td>Positive</td>\n",
              "    </tr>\n",
              "    <tr>\n",
              "      <th>3</th>\n",
              "      <td>3802</td>\n",
              "      <td>48754</td>\n",
              "      <td>NaN</td>\n",
              "      <td>16-03-2020</td>\n",
              "      <td>My food stock is not the only one which is emp...</td>\n",
              "      <td>Positive</td>\n",
              "    </tr>\n",
              "    <tr>\n",
              "      <th>4</th>\n",
              "      <td>3803</td>\n",
              "      <td>48755</td>\n",
              "      <td>NaN</td>\n",
              "      <td>16-03-2020</td>\n",
              "      <td>Me, ready to go at supermarket during the #COV...</td>\n",
              "      <td>Extremely Negative</td>\n",
              "    </tr>\n",
              "  </tbody>\n",
              "</table>\n",
              "</div>"
            ],
            "text/plain": [
              "   UserName  ...           Sentiment\n",
              "0      3799  ...             Neutral\n",
              "1      3800  ...            Positive\n",
              "2      3801  ...            Positive\n",
              "3      3802  ...            Positive\n",
              "4      3803  ...  Extremely Negative\n",
              "\n",
              "[5 rows x 6 columns]"
            ]
          },
          "metadata": {
            "tags": []
          },
          "execution_count": 2
        }
      ]
    },
    {
      "cell_type": "code",
      "metadata": {
        "colab": {
          "base_uri": "https://localhost:8080/"
        },
        "id": "OQiVmo1TEEa_",
        "outputId": "07ad363f-d0e8-4828-f885-a0c2204fe6ee"
      },
      "source": [
        "print('The Shape of the dataset is: {} which contains `{}` features and `{}` number of examples'\n",
        ".format(tweet_data.shape,tweet_data.shape[1],tweet_data.shape[0]))"
      ],
      "execution_count": null,
      "outputs": [
        {
          "output_type": "stream",
          "text": [
            "The Shape of the dataset is: (41157, 6) which contains `6` features and `41157` number of examples\n"
          ],
          "name": "stdout"
        }
      ]
    },
    {
      "cell_type": "markdown",
      "metadata": {
        "id": "0wxR5ju1Hpf0"
      },
      "source": [
        "* The dataset contain  6 features out of which `Sentiment` Feature is dependent feature and other 5 features are independent features. \n",
        "* UserName and ScreenName are not required as it doesn't add any importance to predict the sentiment hence those features will be removed."
      ]
    },
    {
      "cell_type": "code",
      "metadata": {
        "colab": {
          "base_uri": "https://localhost:8080/",
          "height": 202
        },
        "id": "CiTHY3OuG3wz",
        "outputId": "be6492e5-825d-468c-cfdd-3398933f62e2"
      },
      "source": [
        "tweet_data.drop(columns=['UserName','ScreenName'],axis=1,inplace=True)\n",
        "tweet_data.head()"
      ],
      "execution_count": null,
      "outputs": [
        {
          "output_type": "execute_result",
          "data": {
            "text/html": [
              "<div>\n",
              "<style scoped>\n",
              "    .dataframe tbody tr th:only-of-type {\n",
              "        vertical-align: middle;\n",
              "    }\n",
              "\n",
              "    .dataframe tbody tr th {\n",
              "        vertical-align: top;\n",
              "    }\n",
              "\n",
              "    .dataframe thead th {\n",
              "        text-align: right;\n",
              "    }\n",
              "</style>\n",
              "<table border=\"1\" class=\"dataframe\">\n",
              "  <thead>\n",
              "    <tr style=\"text-align: right;\">\n",
              "      <th></th>\n",
              "      <th>Location</th>\n",
              "      <th>TweetAt</th>\n",
              "      <th>OriginalTweet</th>\n",
              "      <th>Sentiment</th>\n",
              "    </tr>\n",
              "  </thead>\n",
              "  <tbody>\n",
              "    <tr>\n",
              "      <th>0</th>\n",
              "      <td>London</td>\n",
              "      <td>16-03-2020</td>\n",
              "      <td>@MeNyrbie @Phil_Gahan @Chrisitv https://t.co/i...</td>\n",
              "      <td>Neutral</td>\n",
              "    </tr>\n",
              "    <tr>\n",
              "      <th>1</th>\n",
              "      <td>UK</td>\n",
              "      <td>16-03-2020</td>\n",
              "      <td>advice Talk to your neighbours family to excha...</td>\n",
              "      <td>Positive</td>\n",
              "    </tr>\n",
              "    <tr>\n",
              "      <th>2</th>\n",
              "      <td>Vagabonds</td>\n",
              "      <td>16-03-2020</td>\n",
              "      <td>Coronavirus Australia: Woolworths to give elde...</td>\n",
              "      <td>Positive</td>\n",
              "    </tr>\n",
              "    <tr>\n",
              "      <th>3</th>\n",
              "      <td>NaN</td>\n",
              "      <td>16-03-2020</td>\n",
              "      <td>My food stock is not the only one which is emp...</td>\n",
              "      <td>Positive</td>\n",
              "    </tr>\n",
              "    <tr>\n",
              "      <th>4</th>\n",
              "      <td>NaN</td>\n",
              "      <td>16-03-2020</td>\n",
              "      <td>Me, ready to go at supermarket during the #COV...</td>\n",
              "      <td>Extremely Negative</td>\n",
              "    </tr>\n",
              "  </tbody>\n",
              "</table>\n",
              "</div>"
            ],
            "text/plain": [
              "    Location  ...           Sentiment\n",
              "0     London  ...             Neutral\n",
              "1         UK  ...            Positive\n",
              "2  Vagabonds  ...            Positive\n",
              "3        NaN  ...            Positive\n",
              "4        NaN  ...  Extremely Negative\n",
              "\n",
              "[5 rows x 4 columns]"
            ]
          },
          "metadata": {
            "tags": []
          },
          "execution_count": 4
        }
      ]
    },
    {
      "cell_type": "code",
      "metadata": {
        "colab": {
          "base_uri": "https://localhost:8080/"
        },
        "id": "pvhDIhxMHMSz",
        "outputId": "46a5fe3b-ce67-4bac-cc3e-3b238bfab53d"
      },
      "source": [
        "#Find if the Dataset contains and NULL Values\n",
        "tweet_data.isnull().sum()"
      ],
      "execution_count": null,
      "outputs": [
        {
          "output_type": "execute_result",
          "data": {
            "text/plain": [
              "Location         8590\n",
              "TweetAt             0\n",
              "OriginalTweet       0\n",
              "Sentiment           0\n",
              "dtype: int64"
            ]
          },
          "metadata": {
            "tags": []
          },
          "execution_count": 5
        }
      ]
    },
    {
      "cell_type": "markdown",
      "metadata": {
        "id": "vD-vWphoJ2IG"
      },
      "source": [
        "Only the Location feature contains 8590 Null values"
      ]
    },
    {
      "cell_type": "code",
      "metadata": {
        "colab": {
          "base_uri": "https://localhost:8080/"
        },
        "id": "LqucNQgeMAPk",
        "outputId": "810fa6af-d9dc-499a-9125-f31b744eff66"
      },
      "source": [
        "#Print random tweets\n",
        "random_number = [23,678,7890,40000]\n",
        "for number in random_number:\n",
        "  print(tweet_data['OriginalTweet'][number])\n",
        "  print('------'*30)"
      ],
      "execution_count": null,
      "outputs": [
        {
          "output_type": "stream",
          "text": [
            "We have AMAZING CHEAP DEALS! FOR THE #COVID2019 going on to help you???\r\r\n",
            "#Trials\r\r\n",
            "#Monthly\r\r\n",
            "#Yearly \r\r\n",
            "And Resonable #Prices / #Subscriptions\r\r\n",
            "Just DM US! #bestiptv #iptv #Service #Iptv #iptvdeals #Cheap #ipTV #Football #HD #Movies #Adult #Cinema #hotmovies #ipTv IPTVLinks #18Movies\n",
            "------------------------------------------------------------------------------------------------------------------------------------------------------------------------------------\n",
            "Hey are likely to make a fortune from boom in online shopping due to Are you going to ensure they pay fair UK tax We ll need that income for recovery Wouldn t the EU Tax Avoidance Directive be useful right now\n",
            "------------------------------------------------------------------------------------------------------------------------------------------------------------------------------------\n",
            "What am YOU doing during this #COVID-19 #quarantined #flu season...besides eating up all YOUR previously bought #snacks &amp; #online #shopping? ?\r\r\n",
            ".\r\r\n",
            ".\r\r\n",
            ".\r\r\n",
            "ME?\r\r\n",
            ".\r\r\n",
            "? 45mins of #cycling outside on #balcony ? #peloton #app https://t.co/yORuCQ0X8X\n",
            "------------------------------------------------------------------------------------------------------------------------------------------------------------------------------------\n",
            "The Era Of Cheap Oil Is Here To Stay Oh goody goody As soon as COVID 19 Lockdown is re opened We can re start killing Earth and ourselves With pollution and\n",
            "------------------------------------------------------------------------------------------------------------------------------------------------------------------------------------\n"
          ],
          "name": "stdout"
        }
      ]
    },
    {
      "cell_type": "markdown",
      "metadata": {
        "id": "rvZrlLzkJEjX"
      },
      "source": [
        "### Different type of tweet based on Sentiment"
      ]
    },
    {
      "cell_type": "code",
      "metadata": {
        "colab": {
          "base_uri": "https://localhost:8080/"
        },
        "id": "aPYD1LKPKP7x",
        "outputId": "8c715ed5-4bef-4973-fcce-62a9d2b9f9a8"
      },
      "source": [
        "tweet_data['Sentiment'].unique()"
      ],
      "execution_count": null,
      "outputs": [
        {
          "output_type": "execute_result",
          "data": {
            "text/plain": [
              "array(['Neutral', 'Positive', 'Extremely Negative', 'Negative',\n",
              "       'Extremely Positive'], dtype=object)"
            ]
          },
          "metadata": {
            "tags": []
          },
          "execution_count": 7
        }
      ]
    },
    {
      "cell_type": "code",
      "metadata": {
        "colab": {
          "base_uri": "https://localhost:8080/"
        },
        "id": "wsLSmuMlJCUb",
        "outputId": "a3078963-914b-4367-abe2-9116b97f988f"
      },
      "source": [
        "print('Positive Tweet Example:')\n",
        "print(tweet_data[tweet_data['Sentiment']=='Positive']['OriginalTweet'][1])\n",
        "print('\\n')\n",
        "print('Neutral Tweet Example:')\n",
        "print(tweet_data[tweet_data['Sentiment']=='Neutral']['OriginalTweet'][17])\n",
        "print('\\n')\n",
        "print('Extremely Negative Tweet Example:')\n",
        "print(tweet_data[tweet_data['Sentiment']=='Extremely Negative']['OriginalTweet'][42])\n",
        "print('\\n')\n",
        "print('Negative Tweet Example:')\n",
        "print(tweet_data[tweet_data['Sentiment']=='Negative']['OriginalTweet'][41127])\n",
        "print('\\n')\n",
        "print('Extremely Positive Tweet Example:')\n",
        "print(tweet_data[tweet_data['Sentiment']=='Extremely Positive']['OriginalTweet'][41142])"
      ],
      "execution_count": null,
      "outputs": [
        {
          "output_type": "stream",
          "text": [
            "Positive Tweet Example:\n",
            "advice Talk to your neighbours family to exchange phone numbers create contact list with phone numbers of neighbours schools employer chemist GP set up online shopping accounts if poss adequate supplies of regular meds but not over order\n",
            "\n",
            "\n",
            "Neutral Tweet Example:\n",
            "@eyeonthearctic 16MAR20 Russia consumer surveillance watchdog reported case in high Arctic where a man who traveled to Iran has COVID-19 and 101 are \"observed\"\r\r\n",
            "https://t.co/4WnrrK9oKC https://t.co/ld05k5Eyns\n",
            "\n",
            "\n",
            "Extremely Negative Tweet Example:\n",
            "CHECK VIDEO ?? https://t.co/1ksn9Brl02 ??No food ? in USA market due to coronavirus panic we gonna die from starvation #CoronavirusOutbreak #coronavirus #houston #nofood #Notoiletpaper #NoHandShakes #nohandsanitizer #COVID19 #pandemic #totallockdown #COVID2019usa #walmart https://t.co/ztN3iMkgpD\n",
            "\n",
            "\n",
            "Negative Tweet Example:\n",
            "Today at the grocery store I saw someone getting a case of #Corona beer and I was about to jokingly say 'hey man i see you got Corona' then I stopped myself doing that thinking it would be the new version of yelling fire in a movie theater #COVID2019 #COVID19 #QuarantineLife\n",
            "\n",
            "\n",
            "Extremely Positive Tweet Example:\n",
            "@MajangChien @MTNSSD @MTNSSD is worst than COVID-19. All businesses have reduced their prices but our MTN is looting us instead of giving us free data.\n"
          ],
          "name": "stdout"
        }
      ]
    },
    {
      "cell_type": "code",
      "metadata": {
        "colab": {
          "base_uri": "https://localhost:8080/"
        },
        "id": "xRi4xQGpJCNr",
        "outputId": "25ca8347-43ae-4653-fc21-aab7ebefa5ab"
      },
      "source": [
        "tweet_data.info()"
      ],
      "execution_count": null,
      "outputs": [
        {
          "output_type": "stream",
          "text": [
            "<class 'pandas.core.frame.DataFrame'>\n",
            "RangeIndex: 41157 entries, 0 to 41156\n",
            "Data columns (total 4 columns):\n",
            " #   Column         Non-Null Count  Dtype \n",
            "---  ------         --------------  ----- \n",
            " 0   Location       32567 non-null  object\n",
            " 1   TweetAt        41157 non-null  object\n",
            " 2   OriginalTweet  41157 non-null  object\n",
            " 3   Sentiment      41157 non-null  object\n",
            "dtypes: object(4)\n",
            "memory usage: 1.3+ MB\n"
          ],
          "name": "stdout"
        }
      ]
    },
    {
      "cell_type": "markdown",
      "metadata": {
        "id": "75uZ0jRnvwAD"
      },
      "source": [
        "# Cleaning The Dataset\n",
        "Tweet contains special characters and url's which has to be removed "
      ]
    },
    {
      "cell_type": "code",
      "metadata": {
        "id": "AyyURuSavVbP"
      },
      "source": [
        "# Removing URLS's\n",
        "remove_url = lambda x:re.sub(r'https\\S+','',str(x))\n",
        "new_tweet = tweet_data['OriginalTweet'].apply(remove_url)\n",
        "\n",
        "#Removing Punctuations\n",
        "tweet_punc = lambda x:x.translate(str.maketrans('','',string.punctuation))\n",
        "new_tweet = new_tweet.apply(tweet_punc)\n",
        "\n",
        "#Removing Stopwords\n",
        "stop = stopwords.words('english')\n",
        "stop_tweet = lambda x: ' '.join([w for w in x.split() if w not in stop])\n",
        "new_tweet = new_tweet.apply(stop_tweet)\n",
        "\n",
        "#Converting to lower case\n",
        "tweet_lower = lambda x:x.lower()\n",
        "new_tweet = new_tweet.apply(tweet_lower)"
      ],
      "execution_count": null,
      "outputs": []
    },
    {
      "cell_type": "code",
      "metadata": {
        "id": "-8CoVN1cvuS8",
        "colab": {
          "base_uri": "https://localhost:8080/"
        },
        "outputId": "9ba2ab91-20db-4302-9c0f-a23937aaacde"
      },
      "source": [
        "#Comparision \n",
        "print('Original Tweet: \\n',tweet_data['OriginalTweet'][45])\n",
        "print('----'*20)\n",
        "print('Cleaned Tweet: \\n',new_tweet[45])"
      ],
      "execution_count": null,
      "outputs": [
        {
          "output_type": "stream",
          "text": [
            "Original Tweet: \n",
            " South Africans stock up on food, basic goods as coronavirus panic hits https://t.co/6nGNFJmy89\r\r\n",
            "\r\r\n",
            "#CoronaVirusSA \r\r\n",
            "#Covid_19 https://t.co/pzirO10avf\n",
            "--------------------------------------------------------------------------------\n",
            "Cleaned Tweet: \n",
            " south africans stock food basic goods coronavirus panic hits coronavirussa covid19\n"
          ],
          "name": "stdout"
        }
      ]
    },
    {
      "cell_type": "code",
      "metadata": {
        "id": "lkHZvYK1vuQN",
        "colab": {
          "base_uri": "https://localhost:8080/",
          "height": 202
        },
        "outputId": "c60bfab4-d48f-46b6-cf9f-a34902d3dcc9"
      },
      "source": [
        "#Replace the old tweet column with the new_tweet\n",
        "tweet_data['OriginalTweet'] = new_tweet\n",
        "tweet_data.head()"
      ],
      "execution_count": null,
      "outputs": [
        {
          "output_type": "execute_result",
          "data": {
            "text/html": [
              "<div>\n",
              "<style scoped>\n",
              "    .dataframe tbody tr th:only-of-type {\n",
              "        vertical-align: middle;\n",
              "    }\n",
              "\n",
              "    .dataframe tbody tr th {\n",
              "        vertical-align: top;\n",
              "    }\n",
              "\n",
              "    .dataframe thead th {\n",
              "        text-align: right;\n",
              "    }\n",
              "</style>\n",
              "<table border=\"1\" class=\"dataframe\">\n",
              "  <thead>\n",
              "    <tr style=\"text-align: right;\">\n",
              "      <th></th>\n",
              "      <th>Location</th>\n",
              "      <th>TweetAt</th>\n",
              "      <th>OriginalTweet</th>\n",
              "      <th>Sentiment</th>\n",
              "    </tr>\n",
              "  </thead>\n",
              "  <tbody>\n",
              "    <tr>\n",
              "      <th>0</th>\n",
              "      <td>London</td>\n",
              "      <td>16-03-2020</td>\n",
              "      <td>menyrbie philgahan chrisitv</td>\n",
              "      <td>Neutral</td>\n",
              "    </tr>\n",
              "    <tr>\n",
              "      <th>1</th>\n",
              "      <td>UK</td>\n",
              "      <td>16-03-2020</td>\n",
              "      <td>advice talk neighbours family exchange phone n...</td>\n",
              "      <td>Positive</td>\n",
              "    </tr>\n",
              "    <tr>\n",
              "      <th>2</th>\n",
              "      <td>Vagabonds</td>\n",
              "      <td>16-03-2020</td>\n",
              "      <td>coronavirus australia woolworths give elderly ...</td>\n",
              "      <td>Positive</td>\n",
              "    </tr>\n",
              "    <tr>\n",
              "      <th>3</th>\n",
              "      <td>NaN</td>\n",
              "      <td>16-03-2020</td>\n",
              "      <td>my food stock one empty please dont panic ther...</td>\n",
              "      <td>Positive</td>\n",
              "    </tr>\n",
              "    <tr>\n",
              "      <th>4</th>\n",
              "      <td>NaN</td>\n",
              "      <td>16-03-2020</td>\n",
              "      <td>me ready go supermarket covid19 outbreak not i...</td>\n",
              "      <td>Extremely Negative</td>\n",
              "    </tr>\n",
              "  </tbody>\n",
              "</table>\n",
              "</div>"
            ],
            "text/plain": [
              "    Location  ...           Sentiment\n",
              "0     London  ...             Neutral\n",
              "1         UK  ...            Positive\n",
              "2  Vagabonds  ...            Positive\n",
              "3        NaN  ...            Positive\n",
              "4        NaN  ...  Extremely Negative\n",
              "\n",
              "[5 rows x 4 columns]"
            ]
          },
          "metadata": {
            "tags": []
          },
          "execution_count": 12
        }
      ]
    },
    {
      "cell_type": "markdown",
      "metadata": {
        "id": "Z_clUiQYtLQe"
      },
      "source": [
        "# Feature Engineering"
      ]
    },
    {
      "cell_type": "code",
      "metadata": {
        "colab": {
          "base_uri": "https://localhost:8080/",
          "height": 202
        },
        "id": "3OvYIuV-tHNG",
        "outputId": "03511015-23f4-4a60-bf0e-7db967c14354"
      },
      "source": [
        "#Find the length of tweet\n",
        "tweet_data['Tweet_length'] = tweet_data['OriginalTweet'].apply(lambda x:len(x))\n",
        "tweet_data.head()"
      ],
      "execution_count": null,
      "outputs": [
        {
          "output_type": "execute_result",
          "data": {
            "text/html": [
              "<div>\n",
              "<style scoped>\n",
              "    .dataframe tbody tr th:only-of-type {\n",
              "        vertical-align: middle;\n",
              "    }\n",
              "\n",
              "    .dataframe tbody tr th {\n",
              "        vertical-align: top;\n",
              "    }\n",
              "\n",
              "    .dataframe thead th {\n",
              "        text-align: right;\n",
              "    }\n",
              "</style>\n",
              "<table border=\"1\" class=\"dataframe\">\n",
              "  <thead>\n",
              "    <tr style=\"text-align: right;\">\n",
              "      <th></th>\n",
              "      <th>Location</th>\n",
              "      <th>TweetAt</th>\n",
              "      <th>OriginalTweet</th>\n",
              "      <th>Sentiment</th>\n",
              "      <th>Tweet_length</th>\n",
              "    </tr>\n",
              "  </thead>\n",
              "  <tbody>\n",
              "    <tr>\n",
              "      <th>0</th>\n",
              "      <td>London</td>\n",
              "      <td>16-03-2020</td>\n",
              "      <td>menyrbie philgahan chrisitv</td>\n",
              "      <td>Neutral</td>\n",
              "      <td>27</td>\n",
              "    </tr>\n",
              "    <tr>\n",
              "      <th>1</th>\n",
              "      <td>UK</td>\n",
              "      <td>16-03-2020</td>\n",
              "      <td>advice talk neighbours family exchange phone n...</td>\n",
              "      <td>Positive</td>\n",
              "      <td>196</td>\n",
              "    </tr>\n",
              "    <tr>\n",
              "      <th>2</th>\n",
              "      <td>Vagabonds</td>\n",
              "      <td>16-03-2020</td>\n",
              "      <td>coronavirus australia woolworths give elderly ...</td>\n",
              "      <td>Positive</td>\n",
              "      <td>101</td>\n",
              "    </tr>\n",
              "    <tr>\n",
              "      <th>3</th>\n",
              "      <td>NaN</td>\n",
              "      <td>16-03-2020</td>\n",
              "      <td>my food stock one empty please dont panic ther...</td>\n",
              "      <td>Positive</td>\n",
              "      <td>199</td>\n",
              "    </tr>\n",
              "    <tr>\n",
              "      <th>4</th>\n",
              "      <td>NaN</td>\n",
              "      <td>16-03-2020</td>\n",
              "      <td>me ready go supermarket covid19 outbreak not i...</td>\n",
              "      <td>Extremely Negative</td>\n",
              "      <td>206</td>\n",
              "    </tr>\n",
              "  </tbody>\n",
              "</table>\n",
              "</div>"
            ],
            "text/plain": [
              "    Location     TweetAt  ...           Sentiment Tweet_length\n",
              "0     London  16-03-2020  ...             Neutral           27\n",
              "1         UK  16-03-2020  ...            Positive          196\n",
              "2  Vagabonds  16-03-2020  ...            Positive          101\n",
              "3        NaN  16-03-2020  ...            Positive          199\n",
              "4        NaN  16-03-2020  ...  Extremely Negative          206\n",
              "\n",
              "[5 rows x 5 columns]"
            ]
          },
          "metadata": {
            "tags": []
          },
          "execution_count": 13
        }
      ]
    },
    {
      "cell_type": "code",
      "metadata": {
        "colab": {
          "base_uri": "https://localhost:8080/",
          "height": 385
        },
        "id": "09CmCpsmfGrE",
        "outputId": "2b282b42-44d0-4828-f842-6b6a4a55a37f"
      },
      "source": [
        "tweet_data.describe(include='all')"
      ],
      "execution_count": null,
      "outputs": [
        {
          "output_type": "execute_result",
          "data": {
            "text/html": [
              "<div>\n",
              "<style scoped>\n",
              "    .dataframe tbody tr th:only-of-type {\n",
              "        vertical-align: middle;\n",
              "    }\n",
              "\n",
              "    .dataframe tbody tr th {\n",
              "        vertical-align: top;\n",
              "    }\n",
              "\n",
              "    .dataframe thead th {\n",
              "        text-align: right;\n",
              "    }\n",
              "</style>\n",
              "<table border=\"1\" class=\"dataframe\">\n",
              "  <thead>\n",
              "    <tr style=\"text-align: right;\">\n",
              "      <th></th>\n",
              "      <th>Location</th>\n",
              "      <th>TweetAt</th>\n",
              "      <th>OriginalTweet</th>\n",
              "      <th>Sentiment</th>\n",
              "      <th>Tweet_length</th>\n",
              "    </tr>\n",
              "  </thead>\n",
              "  <tbody>\n",
              "    <tr>\n",
              "      <th>count</th>\n",
              "      <td>32567</td>\n",
              "      <td>41157</td>\n",
              "      <td>41157</td>\n",
              "      <td>41157</td>\n",
              "      <td>41157.000000</td>\n",
              "    </tr>\n",
              "    <tr>\n",
              "      <th>unique</th>\n",
              "      <td>12220</td>\n",
              "      <td>30</td>\n",
              "      <td>41011</td>\n",
              "      <td>5</td>\n",
              "      <td>NaN</td>\n",
              "    </tr>\n",
              "    <tr>\n",
              "      <th>top</th>\n",
              "      <td>London</td>\n",
              "      <td>20-03-2020</td>\n",
              "      <td></td>\n",
              "      <td>Positive</td>\n",
              "      <td>NaN</td>\n",
              "    </tr>\n",
              "    <tr>\n",
              "      <th>freq</th>\n",
              "      <td>540</td>\n",
              "      <td>3448</td>\n",
              "      <td>10</td>\n",
              "      <td>11422</td>\n",
              "      <td>NaN</td>\n",
              "    </tr>\n",
              "    <tr>\n",
              "      <th>mean</th>\n",
              "      <td>NaN</td>\n",
              "      <td>NaN</td>\n",
              "      <td>NaN</td>\n",
              "      <td>NaN</td>\n",
              "      <td>142.115849</td>\n",
              "    </tr>\n",
              "    <tr>\n",
              "      <th>std</th>\n",
              "      <td>NaN</td>\n",
              "      <td>NaN</td>\n",
              "      <td>NaN</td>\n",
              "      <td>NaN</td>\n",
              "      <td>50.919184</td>\n",
              "    </tr>\n",
              "    <tr>\n",
              "      <th>min</th>\n",
              "      <td>NaN</td>\n",
              "      <td>NaN</td>\n",
              "      <td>NaN</td>\n",
              "      <td>NaN</td>\n",
              "      <td>0.000000</td>\n",
              "    </tr>\n",
              "    <tr>\n",
              "      <th>25%</th>\n",
              "      <td>NaN</td>\n",
              "      <td>NaN</td>\n",
              "      <td>NaN</td>\n",
              "      <td>NaN</td>\n",
              "      <td>102.000000</td>\n",
              "    </tr>\n",
              "    <tr>\n",
              "      <th>50%</th>\n",
              "      <td>NaN</td>\n",
              "      <td>NaN</td>\n",
              "      <td>NaN</td>\n",
              "      <td>NaN</td>\n",
              "      <td>149.000000</td>\n",
              "    </tr>\n",
              "    <tr>\n",
              "      <th>75%</th>\n",
              "      <td>NaN</td>\n",
              "      <td>NaN</td>\n",
              "      <td>NaN</td>\n",
              "      <td>NaN</td>\n",
              "      <td>183.000000</td>\n",
              "    </tr>\n",
              "    <tr>\n",
              "      <th>max</th>\n",
              "      <td>NaN</td>\n",
              "      <td>NaN</td>\n",
              "      <td>NaN</td>\n",
              "      <td>NaN</td>\n",
              "      <td>306.000000</td>\n",
              "    </tr>\n",
              "  </tbody>\n",
              "</table>\n",
              "</div>"
            ],
            "text/plain": [
              "       Location     TweetAt OriginalTweet Sentiment  Tweet_length\n",
              "count     32567       41157         41157     41157  41157.000000\n",
              "unique    12220          30         41011         5           NaN\n",
              "top      London  20-03-2020                Positive           NaN\n",
              "freq        540        3448            10     11422           NaN\n",
              "mean        NaN         NaN           NaN       NaN    142.115849\n",
              "std         NaN         NaN           NaN       NaN     50.919184\n",
              "min         NaN         NaN           NaN       NaN      0.000000\n",
              "25%         NaN         NaN           NaN       NaN    102.000000\n",
              "50%         NaN         NaN           NaN       NaN    149.000000\n",
              "75%         NaN         NaN           NaN       NaN    183.000000\n",
              "max         NaN         NaN           NaN       NaN    306.000000"
            ]
          },
          "metadata": {
            "tags": []
          },
          "execution_count": 14
        }
      ]
    },
    {
      "cell_type": "markdown",
      "metadata": {
        "id": "sDX0bTiQfikl"
      },
      "source": [
        "* Positive tweet has the Highest Count which is 11422\n",
        "* There are 5 Unique type of tweets\n",
        "* Location has 12220 unique values\n",
        "* TweetAt which is time has 30 unique values which means that the Tweet data is for 30 days interval."
      ]
    },
    {
      "cell_type": "markdown",
      "metadata": {
        "id": "SuNHChyhmEPA"
      },
      "source": [
        "## Exploratory Data Analysis"
      ]
    },
    {
      "cell_type": "code",
      "metadata": {
        "id": "lorPISocp3q2"
      },
      "source": [
        "#function for adding percentage on top of the count bars\n",
        "def without_hue(plot, feature):\n",
        "    total = len(feature)\n",
        "    for p in plot.patches:\n",
        "        percentage = '{:.1f}%'.format(100 * p.get_height()/total)\n",
        "        x = p.get_x() + p.get_width() / 2 - 0.05\n",
        "        y = p.get_y() + p.get_height()+150\n",
        "        ax.annotate(percentage, (x, y), size = 12)\n",
        "    plt.show()"
      ],
      "execution_count": null,
      "outputs": []
    },
    {
      "cell_type": "code",
      "metadata": {
        "colab": {
          "base_uri": "https://localhost:8080/",
          "height": 414
        },
        "id": "xK9SBOZXmDoc",
        "outputId": "5c643120-8ceb-41ce-9510-f804ae1d5c93"
      },
      "source": [
        "#Finding the unique count of each kind of sentiment\n",
        "plt.figure(figsize=(12,6))\n",
        "ax = sns.countplot(tweet_data['Sentiment'],edgecolor=sns.color_palette(\"dark\", 3),facecolor = (0,0,0,0),linewidth = 5)\n",
        "plt.xticks(size=12)\n",
        "plt.xlabel('Sentiment',size=15)\n",
        "plt.ylabel('Count',size=15)\n",
        "plt.title('Count of Each type of Sentiment',size=15)\n",
        "without_hue(ax,tweet_data.Sentiment)\n",
        "plt.show()"
      ],
      "execution_count": null,
      "outputs": [
        {
          "output_type": "display_data",
          "data": {
            "image/png": "[encoded data removed]",
            "text/plain": [
              "<Figure size 864x432 with 1 Axes>"
            ]
          },
          "metadata": {
            "tags": [],
            "needs_background": "light"
          }
        }
      ]
    },
    {
      "cell_type": "markdown",
      "metadata": {
        "id": "PGOSq5vsrEIl"
      },
      "source": [
        "\n",
        "* With the above plot we can see that `positive` and `negative` sentiments counts are quite high as compared with the other kind of sentiment.\n",
        "*`Extremely negative` has the lowest count.\n",
        "* The Sentiment is equally distributed ."
      ]
    },
    {
      "cell_type": "code",
      "metadata": {
        "colab": {
          "base_uri": "https://localhost:8080/"
        },
        "id": "wYaJv481zGwW",
        "outputId": "84004c90-eab8-400a-c242-48f2f2a2f993"
      },
      "source": [
        "#Sentiment\n",
        "tweet_data['Sentiment'].unique()"
      ],
      "execution_count": null,
      "outputs": [
        {
          "output_type": "execute_result",
          "data": {
            "text/plain": [
              "array(['Neutral', 'Positive', 'Extremely Negative', 'Negative',\n",
              "       'Extremely Positive'], dtype=object)"
            ]
          },
          "metadata": {
            "tags": []
          },
          "execution_count": 17
        }
      ]
    },
    {
      "cell_type": "code",
      "metadata": {
        "colab": {
          "base_uri": "https://localhost:8080/",
          "height": 352
        },
        "id": "QPfyc-jYmDlh",
        "outputId": "74cbcb57-9ffd-410c-a2a8-068557b496bb"
      },
      "source": [
        "# Distribution of message Length for each type of Sentiment\n",
        "fig,ax=plt.subplots(1,5,figsize=(20,5))\n",
        "tweet_length_positive = tweet_data.loc[tweet_data['Sentiment'] == 'Positive','Tweet_length']\n",
        "tweet_length_Negative = tweet_data.loc[tweet_data['Sentiment'] == 'Negative','Tweet_length']\n",
        "tweet_length_Extremely_positive = tweet_data.loc[tweet_data['Sentiment'] == 'Extremely Positive','Tweet_length']\n",
        "tweet_length_Extremely_negative = tweet_data.loc[tweet_data['Sentiment'] == 'Extremely Negative','Tweet_length']\n",
        "tweet_length_Neutral = tweet_data.loc[tweet_data['Sentiment'] == 'Neutral','Tweet_length']\n",
        "\n",
        "sns.distplot(tweet_length_positive,ax=ax[0],color='r')\n",
        "sns.distplot(tweet_length_Negative,ax=ax[1],color='b')\n",
        "sns.distplot(tweet_length_Extremely_positive,ax=ax[2],color='g')\n",
        "sns.distplot(tweet_length_Extremely_negative,ax=ax[3],color='y')\n",
        "sns.distplot(tweet_length_Neutral,ax=ax[4],color='m')"
      ],
      "execution_count": null,
      "outputs": [
        {
          "output_type": "execute_result",
          "data": {
            "text/plain": [
              "<matplotlib.axes._subplots.AxesSubplot at 0x7f403338f310>"
            ]
          },
          "metadata": {
            "tags": []
          },
          "execution_count": 18
        },
        {
          "output_type": "display_data",
          "data": {
            "image/png": "[encoded data removed]",
            "text/plain": [
              "<Figure size 1440x360 with 5 Axes>"
            ]
          },
          "metadata": {
            "tags": [],
            "needs_background": "light"
          }
        }
      ]
    },
    {
      "cell_type": "markdown",
      "metadata": {
        "id": "Yn16klDoGGfs"
      },
      "source": [
        "From the Above Distribution plot it can be seen that all the distributions are equally Distributed. Length of the Message doesn't depend on the sentiment of the tweet."
      ]
    },
    {
      "cell_type": "code",
      "metadata": {
        "id": "L-evwlyumDid",
        "colab": {
          "base_uri": "https://localhost:8080/",
          "height": 486
        },
        "outputId": "b4f277fa-647e-4c4f-8e48-cd971870614d"
      },
      "source": [
        "# Plot the total number of tweets for each day.\n",
        "plt.figure(figsize=(20,7))\n",
        "plt.xticks(rotation=60)\n",
        "sns.countplot(x=tweet_data['TweetAt'])\n",
        "plt.show()"
      ],
      "execution_count": null,
      "outputs": [
        {
          "output_type": "display_data",
          "data": {
            "image/png": "[encoded data removed]",
            "text/plain": [
              "<Figure size 1440x504 with 1 Axes>"
            ]
          },
          "metadata": {
            "tags": [],
            "needs_background": "light"
          }
        }
      ]
    },
    {
      "cell_type": "markdown",
      "metadata": {
        "id": "XlYo6hVOpwur"
      },
      "source": [
        "* Initially the Count of tweets were quite high but gradually the count of tweets related to corona started to decrease."
      ]
    },
    {
      "cell_type": "code",
      "metadata": {
        "id": "PAki_e68mDfX",
        "colab": {
          "base_uri": "https://localhost:8080/",
          "height": 486
        },
        "outputId": "908464f6-ffc4-45ef-ae8c-f154c2423c13"
      },
      "source": [
        "# Plot the total number of tweets for each day.\n",
        "plt.figure(figsize=(20,7))\n",
        "plt.xticks(rotation=60)\n",
        "sns.countplot(x=tweet_data['TweetAt'],hue=tweet_data['Sentiment'])\n",
        "plt.show()"
      ],
      "execution_count": null,
      "outputs": [
        {
          "output_type": "display_data",
          "data": {
            "image/png": "[encoded data removed]",
            "text/plain": [
              "<Figure size 1440x504 with 1 Axes>"
            ]
          },
          "metadata": {
            "tags": [],
            "needs_background": "light"
          }
        }
      ]
    },
    {
      "cell_type": "markdown",
      "metadata": {
        "id": "U7LIfn5wqbsy"
      },
      "source": [
        "* Almost all the days we can see that the Count of Positive tweet was high as compared with other kind of tweets."
      ]
    },
    {
      "cell_type": "code",
      "metadata": {
        "id": "5o6J-lwmmDci",
        "colab": {
          "base_uri": "https://localhost:8080/",
          "height": 513
        },
        "outputId": "cedee489-3f4f-4e15-ba26-6bf97c800cbc"
      },
      "source": [
        "#Top 20 Places with highest tweets\n",
        "plt.figure(figsize=(15,8))\n",
        "plt.title('Top 20 Places with the highest tweet related to Corona ')\n",
        "plt.ylabel('Location', fontsize=12)\n",
        "year_count = sns.countplot(y='Location',data=tweet_data,order=tweet_data['Location'].value_counts().index[:20])"
      ],
      "execution_count": null,
      "outputs": [
        {
          "output_type": "display_data",
          "data": {
            "image/png": "[encoded data removed]",
            "text/plain": [
              "<Figure size 1080x576 with 1 Axes>"
            ]
          },
          "metadata": {
            "tags": [],
            "needs_background": "light"
          }
        }
      ]
    },
    {
      "cell_type": "markdown",
      "metadata": {
        "id": "Z4Of0KsrCv57"
      },
      "source": [
        "# Visulizing the Coronovirus Tweets"
      ]
    },
    {
      "cell_type": "code",
      "metadata": {
        "colab": {
          "base_uri": "https://localhost:8080/",
          "height": 202
        },
        "id": "ae4-8bCHtau2",
        "outputId": "313e53e7-3eae-4c1e-9e94-ddacaa43ce11"
      },
      "source": [
        "tweet_data.head()"
      ],
      "execution_count": null,
      "outputs": [
        {
          "output_type": "execute_result",
          "data": {
            "text/html": [
              "<div>\n",
              "<style scoped>\n",
              "    .dataframe tbody tr th:only-of-type {\n",
              "        vertical-align: middle;\n",
              "    }\n",
              "\n",
              "    .dataframe tbody tr th {\n",
              "        vertical-align: top;\n",
              "    }\n",
              "\n",
              "    .dataframe thead th {\n",
              "        text-align: right;\n",
              "    }\n",
              "</style>\n",
              "<table border=\"1\" class=\"dataframe\">\n",
              "  <thead>\n",
              "    <tr style=\"text-align: right;\">\n",
              "      <th></th>\n",
              "      <th>Location</th>\n",
              "      <th>TweetAt</th>\n",
              "      <th>OriginalTweet</th>\n",
              "      <th>Sentiment</th>\n",
              "      <th>Tweet_length</th>\n",
              "    </tr>\n",
              "  </thead>\n",
              "  <tbody>\n",
              "    <tr>\n",
              "      <th>0</th>\n",
              "      <td>London</td>\n",
              "      <td>16-03-2020</td>\n",
              "      <td>menyrbie philgahan chrisitv</td>\n",
              "      <td>Neutral</td>\n",
              "      <td>27</td>\n",
              "    </tr>\n",
              "    <tr>\n",
              "      <th>1</th>\n",
              "      <td>UK</td>\n",
              "      <td>16-03-2020</td>\n",
              "      <td>advice talk neighbours family exchange phone n...</td>\n",
              "      <td>Positive</td>\n",
              "      <td>196</td>\n",
              "    </tr>\n",
              "    <tr>\n",
              "      <th>2</th>\n",
              "      <td>Vagabonds</td>\n",
              "      <td>16-03-2020</td>\n",
              "      <td>coronavirus australia woolworths give elderly ...</td>\n",
              "      <td>Positive</td>\n",
              "      <td>101</td>\n",
              "    </tr>\n",
              "    <tr>\n",
              "      <th>3</th>\n",
              "      <td>NaN</td>\n",
              "      <td>16-03-2020</td>\n",
              "      <td>my food stock one empty please dont panic ther...</td>\n",
              "      <td>Positive</td>\n",
              "      <td>199</td>\n",
              "    </tr>\n",
              "    <tr>\n",
              "      <th>4</th>\n",
              "      <td>NaN</td>\n",
              "      <td>16-03-2020</td>\n",
              "      <td>me ready go supermarket covid19 outbreak not i...</td>\n",
              "      <td>Extremely Negative</td>\n",
              "      <td>206</td>\n",
              "    </tr>\n",
              "  </tbody>\n",
              "</table>\n",
              "</div>"
            ],
            "text/plain": [
              "    Location     TweetAt  ...           Sentiment Tweet_length\n",
              "0     London  16-03-2020  ...             Neutral           27\n",
              "1         UK  16-03-2020  ...            Positive          196\n",
              "2  Vagabonds  16-03-2020  ...            Positive          101\n",
              "3        NaN  16-03-2020  ...            Positive          199\n",
              "4        NaN  16-03-2020  ...  Extremely Negative          206\n",
              "\n",
              "[5 rows x 5 columns]"
            ]
          },
          "metadata": {
            "tags": []
          },
          "execution_count": 22
        }
      ]
    },
    {
      "cell_type": "code",
      "metadata": {
        "id": "ocZgFHCvmDZh"
      },
      "source": [
        "#Tokenization of the tweet\n",
        "tweet_data['Tokenized_tweet'] = tweet_data['OriginalTweet'].apply(lambda x: word_tokenize(x))"
      ],
      "execution_count": null,
      "outputs": []
    },
    {
      "cell_type": "code",
      "metadata": {
        "id": "M0C7lv_cmDWi",
        "colab": {
          "base_uri": "https://localhost:8080/",
          "height": 202
        },
        "outputId": "8bc6be21-c732-4b7b-8011-e3443bb2d5f0"
      },
      "source": [
        "tweet_data.head()"
      ],
      "execution_count": null,
      "outputs": [
        {
          "output_type": "execute_result",
          "data": {
            "text/html": [
              "<div>\n",
              "<style scoped>\n",
              "    .dataframe tbody tr th:only-of-type {\n",
              "        vertical-align: middle;\n",
              "    }\n",
              "\n",
              "    .dataframe tbody tr th {\n",
              "        vertical-align: top;\n",
              "    }\n",
              "\n",
              "    .dataframe thead th {\n",
              "        text-align: right;\n",
              "    }\n",
              "</style>\n",
              "<table border=\"1\" class=\"dataframe\">\n",
              "  <thead>\n",
              "    <tr style=\"text-align: right;\">\n",
              "      <th></th>\n",
              "      <th>Location</th>\n",
              "      <th>TweetAt</th>\n",
              "      <th>OriginalTweet</th>\n",
              "      <th>Sentiment</th>\n",
              "      <th>Tweet_length</th>\n",
              "      <th>Tokenized_tweet</th>\n",
              "    </tr>\n",
              "  </thead>\n",
              "  <tbody>\n",
              "    <tr>\n",
              "      <th>0</th>\n",
              "      <td>London</td>\n",
              "      <td>16-03-2020</td>\n",
              "      <td>menyrbie philgahan chrisitv</td>\n",
              "      <td>Neutral</td>\n",
              "      <td>27</td>\n",
              "      <td>[menyrbie, philgahan, chrisitv]</td>\n",
              "    </tr>\n",
              "    <tr>\n",
              "      <th>1</th>\n",
              "      <td>UK</td>\n",
              "      <td>16-03-2020</td>\n",
              "      <td>advice talk neighbours family exchange phone n...</td>\n",
              "      <td>Positive</td>\n",
              "      <td>196</td>\n",
              "      <td>[advice, talk, neighbours, family, exchange, p...</td>\n",
              "    </tr>\n",
              "    <tr>\n",
              "      <th>2</th>\n",
              "      <td>Vagabonds</td>\n",
              "      <td>16-03-2020</td>\n",
              "      <td>coronavirus australia woolworths give elderly ...</td>\n",
              "      <td>Positive</td>\n",
              "      <td>101</td>\n",
              "      <td>[coronavirus, australia, woolworths, give, eld...</td>\n",
              "    </tr>\n",
              "    <tr>\n",
              "      <th>3</th>\n",
              "      <td>NaN</td>\n",
              "      <td>16-03-2020</td>\n",
              "      <td>my food stock one empty please dont panic ther...</td>\n",
              "      <td>Positive</td>\n",
              "      <td>199</td>\n",
              "      <td>[my, food, stock, one, empty, please, dont, pa...</td>\n",
              "    </tr>\n",
              "    <tr>\n",
              "      <th>4</th>\n",
              "      <td>NaN</td>\n",
              "      <td>16-03-2020</td>\n",
              "      <td>me ready go supermarket covid19 outbreak not i...</td>\n",
              "      <td>Extremely Negative</td>\n",
              "      <td>206</td>\n",
              "      <td>[me, ready, go, supermarket, covid19, outbreak...</td>\n",
              "    </tr>\n",
              "  </tbody>\n",
              "</table>\n",
              "</div>"
            ],
            "text/plain": [
              "    Location  ...                                    Tokenized_tweet\n",
              "0     London  ...                    [menyrbie, philgahan, chrisitv]\n",
              "1         UK  ...  [advice, talk, neighbours, family, exchange, p...\n",
              "2  Vagabonds  ...  [coronavirus, australia, woolworths, give, eld...\n",
              "3        NaN  ...  [my, food, stock, one, empty, please, dont, pa...\n",
              "4        NaN  ...  [me, ready, go, supermarket, covid19, outbreak...\n",
              "\n",
              "[5 rows x 6 columns]"
            ]
          },
          "metadata": {
            "tags": []
          },
          "execution_count": 24
        }
      ]
    },
    {
      "cell_type": "code",
      "metadata": {
        "id": "4VBjUK4usQMw"
      },
      "source": [
        "tweet_positive = tweet_data.loc[tweet_data['Sentiment'] == 'Positive','Tokenized_tweet']\n",
        "tweet_Negative = tweet_data.loc[tweet_data['Sentiment'] == 'Negative','Tokenized_tweet']\n",
        "tweet_Extremely_positive = tweet_data.loc[tweet_data['Sentiment'] == 'Extremely Positive','Tokenized_tweet']\n",
        "tweet_Extremely_negative = tweet_data.loc[tweet_data['Sentiment'] == 'Extremely Negative','Tokenized_tweet']\n",
        "tweet_Neutral = tweet_data.loc[tweet_data['Sentiment'] == 'Neutral','Tokenized_tweet']"
      ],
      "execution_count": null,
      "outputs": []
    },
    {
      "cell_type": "markdown",
      "metadata": {
        "id": "_2azvvZwuMvV"
      },
      "source": [
        "## Positive Tweets Most Common Words"
      ]
    },
    {
      "cell_type": "code",
      "metadata": {
        "id": "QL0qAb6smDTJ",
        "colab": {
          "base_uri": "https://localhost:8080/",
          "height": 554
        },
        "outputId": "a3f84ab0-68bb-4222-f5d4-30e36306991d"
      },
      "source": [
        "#Join all words in the tokenized tweets\n",
        "pos_words = []\n",
        "for w in tweet_positive:\n",
        "  pos_words+=w\n",
        "\n",
        "# Count each type of words\n",
        "pos_words = Counter(pos_words)\n",
        "\n",
        "# Most common words\n",
        "pos_words_top_20 = pos_words.most_common(20)\n",
        "pos_words_df = pd.DataFrame(dict(pos_words_top_20).items(),columns=['Words','Word_counts'])\n",
        "\n",
        "\n",
        "#Visulize the most common words\n",
        "plt.figure(figsize=(20,8))\n",
        "plt.xticks(rotation=45)\n",
        "plt.title('Top 20  Common words of Positive Tweets')\n",
        "sns.barplot(x='Words',y='Word_counts',data=pos_words_df)\n",
        "plt.show()"
      ],
      "execution_count": null,
      "outputs": [
        {
          "output_type": "display_data",
          "data": {
            "image/png": "[encoded data removed]",
            "text/plain": [
              "<Figure size 1440x576 with 1 Axes>"
            ]
          },
          "metadata": {
            "tags": [],
            "needs_background": "light"
          }
        }
      ]
    },
    {
      "cell_type": "markdown",
      "metadata": {
        "id": "q2cmvnNGyrDV"
      },
      "source": [
        "# Negative Tweet Most common words"
      ]
    },
    {
      "cell_type": "code",
      "metadata": {
        "colab": {
          "base_uri": "https://localhost:8080/",
          "height": 554
        },
        "id": "jeKrM7mnwHxF",
        "outputId": "6331dc2d-025d-4198-8017-c274e67c9252"
      },
      "source": [
        "#Join all words in the tokenized tweets\n",
        "neg_words = []\n",
        "for w in tweet_Negative:\n",
        "  neg_words+=w\n",
        "\n",
        "# Count each type of words\n",
        "neg_words = Counter(neg_words)\n",
        "\n",
        "# Most common words\n",
        "neg_words_top_20 = neg_words.most_common(20)\n",
        "neg_words_df = pd.DataFrame(dict(neg_words_top_20).items(),columns=['Words','Word_counts'])\n",
        "\n",
        "\n",
        "#Visulize the most common words\n",
        "plt.figure(figsize=(20,8))\n",
        "plt.xticks(rotation=45)\n",
        "plt.title('Top 20  Common words of Negative Tweets')\n",
        "sns.barplot(x='Words',y='Word_counts',data=neg_words_df)\n",
        "plt.show()"
      ],
      "execution_count": null,
      "outputs": [
        {
          "output_type": "display_data",
          "data": {
            "image/png": "[encoded data removed]",
            "text/plain": [
              "<Figure size 1440x576 with 1 Axes>"
            ]
          },
          "metadata": {
            "tags": [],
            "needs_background": "light"
          }
        }
      ]
    },
    {
      "cell_type": "markdown",
      "metadata": {
        "id": "OBoz-s0ozQHy"
      },
      "source": [
        "# Neutral Tweet Most common words"
      ]
    },
    {
      "cell_type": "code",
      "metadata": {
        "colab": {
          "base_uri": "https://localhost:8080/",
          "height": 554
        },
        "id": "iB3bv27js7S_",
        "outputId": "880c8ae3-01eb-49da-b650-cf6a620612f6"
      },
      "source": [
        "#Join all words in the tokenized tweets\n",
        "neutral_words = []\n",
        "for w in tweet_Neutral:\n",
        "  neutral_words+=w\n",
        "\n",
        "# Count each type of words\n",
        "neutral_words = Counter(neutral_words)\n",
        "\n",
        "# Most common words\n",
        "neutral_words_top_20 = neutral_words.most_common(20)\n",
        "neutral_words_df = pd.DataFrame(dict(neutral_words_top_20).items(),columns=['Words','Word_counts'])\n",
        "\n",
        "\n",
        "#Visulize the most common words\n",
        "plt.figure(figsize=(20,8))\n",
        "plt.xticks(rotation=45)\n",
        "plt.title('Top 20  Common words of Neutral Tweets')\n",
        "sns.barplot(x='Words',y='Word_counts',data=neutral_words_df)\n",
        "plt.show()"
      ],
      "execution_count": null,
      "outputs": [
        {
          "output_type": "display_data",
          "data": {
            "image/png": "[encoded data removed]",
            "text/plain": [
              "<Figure size 1440x576 with 1 Axes>"
            ]
          },
          "metadata": {
            "tags": [],
            "needs_background": "light"
          }
        }
      ]
    },
    {
      "cell_type": "markdown",
      "metadata": {
        "id": "IzLBLr3k0Ab9"
      },
      "source": [
        "# Extremely Positive Tweet Most common words"
      ]
    },
    {
      "cell_type": "code",
      "metadata": {
        "colab": {
          "base_uri": "https://localhost:8080/",
          "height": 554
        },
        "id": "AwKhfin3reBm",
        "outputId": "78e8084f-fb0f-46ff-9c07-87e156b7b920"
      },
      "source": [
        "#Join all words in the tokenized tweets\n",
        "ext_pos_words = []\n",
        "for w in tweet_Extremely_positive:\n",
        "  ext_pos_words+=w\n",
        "\n",
        "# Count each type of words\n",
        "ext_pos_words = Counter(ext_pos_words)\n",
        "\n",
        "# Most common words\n",
        "ext_pos_words_top_20 = ext_pos_words.most_common(20)\n",
        "ext_pos_words_df = pd.DataFrame(dict(ext_pos_words_top_20).items(),columns=['Words','Word_counts'])\n",
        "\n",
        "\n",
        "#Visulize the most common words\n",
        "plt.figure(figsize=(20,8))\n",
        "plt.xticks(rotation=45)\n",
        "plt.title('Top 20  Common words of Neutral Tweets')\n",
        "sns.barplot(x='Words',y='Word_counts',data=ext_pos_words_df)\n",
        "plt.show()"
      ],
      "execution_count": null,
      "outputs": [
        {
          "output_type": "display_data",
          "data": {
            "image/png": "[encoded data removed]",
            "text/plain": [
              "<Figure size 1440x576 with 1 Axes>"
            ]
          },
          "metadata": {
            "tags": [],
            "needs_background": "light"
          }
        }
      ]
    },
    {
      "cell_type": "markdown",
      "metadata": {
        "id": "L7h-SV940kdL"
      },
      "source": [
        "# Extremely Negative Tweet Most common words"
      ]
    },
    {
      "cell_type": "code",
      "metadata": {
        "colab": {
          "base_uri": "https://localhost:8080/",
          "height": 554
        },
        "id": "X7gB6Fgis1_3",
        "outputId": "7a37c2c4-735b-4058-d2fc-ab65db8a2d7b"
      },
      "source": [
        "#Join all words in the tokenized tweets\n",
        "ext_neg_words = []\n",
        "for w in tweet_Extremely_negative:\n",
        "  ext_neg_words+=w\n",
        "\n",
        "# Count each type of words\n",
        "ext_neg_words = Counter(ext_neg_words)\n",
        "\n",
        "# Most common words\n",
        "ext_neg_words_top_20 = ext_neg_words.most_common(20)\n",
        "ext_neg_words_df = pd.DataFrame(dict(ext_neg_words_top_20).items(),columns=['Words','Word_counts'])\n",
        "\n",
        "\n",
        "#Visulize the most common words\n",
        "plt.figure(figsize=(20,8))\n",
        "plt.xticks(rotation=45)\n",
        "plt.title('Top 20  Common words of Neutral Tweets')\n",
        "sns.barplot(x='Words',y='Word_counts',data=ext_neg_words_df)\n",
        "plt.show()"
      ],
      "execution_count": null,
      "outputs": [
        {
          "output_type": "display_data",
          "data": {
            "image/png": "[encoded data removed]",
            "text/plain": [
              "<Figure size 1440x576 with 1 Axes>"
            ]
          },
          "metadata": {
            "tags": [],
            "needs_background": "light"
          }
        }
      ]
    },
    {
      "cell_type": "markdown",
      "metadata": {
        "id": "fBT-4H-31W5d"
      },
      "source": [
        "## Observations:\n",
        "* Coronavirus is the Most common word in all the type of tweets\n",
        "* Words such as Food,people,sanitizer,pandemic,Coronavirus are the most common type of words\n",
        "* All the type of Tweet have the same type of common words"
      ]
    },
    {
      "cell_type": "markdown",
      "metadata": {
        "id": "v05MgVv02IfH"
      },
      "source": [
        "# Building the Model "
      ]
    },
    {
      "cell_type": "code",
      "metadata": {
        "id": "HRfLYf_6tJ9t"
      },
      "source": [
        "from sklearn.model_selection import train_test_split\n",
        "from sklearn.linear_model import LogisticRegression\n",
        "from sklearn.tree import DecisionTreeClassifier\n",
        "from sklearn.ensemble import RandomForestClassifier,GradientBoostingClassifier\n",
        "from sklearn.svm import SVC\n",
        "from sklearn.feature_extraction.text import TfidfVectorizer \n",
        "from sklearn.neighbors import KNeighborsClassifier"
      ],
      "execution_count": null,
      "outputs": []
    },
    {
      "cell_type": "code",
      "metadata": {
        "id": "yFmNEzWJ8VSr"
      },
      "source": [
        "from sklearn.metrics import accuracy_score,classification_report,confusion_matrix\n",
        "from sklearn.model_selection import GridSearchCV"
      ],
      "execution_count": null,
      "outputs": []
    },
    {
      "cell_type": "code",
      "metadata": {
        "id": "E0p4EgYatRf6"
      },
      "source": [
        "# Select the data for training and testing the model\n",
        "X = tweet_data['OriginalTweet']\n",
        "y = tweet_data['Sentiment']"
      ],
      "execution_count": null,
      "outputs": []
    },
    {
      "cell_type": "markdown",
      "metadata": {
        "id": "ezr-62NH6Lz-"
      },
      "source": [
        "### TFidfVectorizer "
      ]
    },
    {
      "cell_type": "code",
      "metadata": {
        "id": "uHxGMKONtegb"
      },
      "source": [
        "vect_model = TfidfVectorizer()\n",
        "X_vectorized = vect_model.fit_transform(X)"
      ],
      "execution_count": null,
      "outputs": []
    },
    {
      "cell_type": "code",
      "metadata": {
        "id": "Bf4Qni8R6jYq"
      },
      "source": [
        "#Split the data into training and Testing set\n",
        "X_train,X_test,y_train,y_test = train_test_split(X_vectorized,y,random_state=8,test_size=0.2,stratify=tweet_data.Sentiment.values)"
      ],
      "execution_count": null,
      "outputs": []
    },
    {
      "cell_type": "markdown",
      "metadata": {
        "id": "4CuIEyxLBHHx"
      },
      "source": [
        "## LogisticRegression"
      ]
    },
    {
      "cell_type": "code",
      "metadata": {
        "colab": {
          "base_uri": "https://localhost:8080/"
        },
        "id": "F_Ao4aY06mLK",
        "outputId": "d9ec2d8f-6c52-4a87-d422-4b91828c6222"
      },
      "source": [
        "Log_model = LogisticRegression()\n",
        "Log_model.fit(X_train,y_train)"
      ],
      "execution_count": null,
      "outputs": [
        {
          "output_type": "execute_result",
          "data": {
            "text/plain": [
              "LogisticRegression(C=1.0, class_weight=None, dual=False, fit_intercept=True,\n",
              "                   intercept_scaling=1, l1_ratio=None, max_iter=100,\n",
              "                   multi_class='auto', n_jobs=None, penalty='l2',\n",
              "                   random_state=None, solver='lbfgs', tol=0.0001, verbose=0,\n",
              "                   warm_start=False)"
            ]
          },
          "metadata": {
            "tags": []
          },
          "execution_count": 36
        }
      ]
    },
    {
      "cell_type": "code",
      "metadata": {
        "id": "91vhIqk17Od5"
      },
      "source": [
        "log_model_train = Log_model.predict(X_train)\n",
        "log_model_test = Log_model.predict(X_test)"
      ],
      "execution_count": null,
      "outputs": []
    },
    {
      "cell_type": "code",
      "metadata": {
        "colab": {
          "base_uri": "https://localhost:8080/"
        },
        "id": "yyNVjhzG7Q30",
        "outputId": "64b1bf53-33b0-480b-d72a-2eaca915bcb6"
      },
      "source": [
        "accuracy_score(y_train,log_model_train)"
      ],
      "execution_count": null,
      "outputs": [
        {
          "output_type": "execute_result",
          "data": {
            "text/plain": [
              "0.8147304479878512"
            ]
          },
          "metadata": {
            "tags": []
          },
          "execution_count": 38
        }
      ]
    },
    {
      "cell_type": "code",
      "metadata": {
        "colab": {
          "base_uri": "https://localhost:8080/"
        },
        "id": "MBkC0ebD8GAD",
        "outputId": "60be6b0c-8ea7-4522-de08-0045931be4e0"
      },
      "source": [
        "accuracy_score(y_test,log_model_test)"
      ],
      "execution_count": null,
      "outputs": [
        {
          "output_type": "execute_result",
          "data": {
            "text/plain": [
              "0.5600097181729835"
            ]
          },
          "metadata": {
            "tags": []
          },
          "execution_count": 39
        }
      ]
    },
    {
      "cell_type": "code",
      "metadata": {
        "id": "vFMGsCTz8fuW"
      },
      "source": [
        "reg_param = [0.0001,0.001,0.01,0.1,1,10]\n",
        "\n",
        "train = []\n",
        "test = []\n",
        "for c in reg_param:\n",
        "  Log_model = LogisticRegression(C=c)\n",
        "  Log_model.fit(X_train,y_train)\n",
        "  log_model_train = Log_model.predict(X_train)\n",
        "  log_model_test = Log_model.predict(X_test)\n",
        "  train_score = accuracy_score(y_train,log_model_train)\n",
        "  test_score = accuracy_score(y_test,log_model_test)\n",
        "  train.append(train_score)\n",
        "  test.append(test_score)"
      ],
      "execution_count": null,
      "outputs": []
    },
    {
      "cell_type": "code",
      "metadata": {
        "colab": {
          "base_uri": "https://localhost:8080/",
          "height": 282
        },
        "id": "hVhgyFZc-tzL",
        "outputId": "a513e577-feea-4376-df1d-d689a3bc43c0"
      },
      "source": [
        "sns.lineplot(x=reg_param,y=train)"
      ],
      "execution_count": null,
      "outputs": [
        {
          "output_type": "execute_result",
          "data": {
            "text/plain": [
              "<matplotlib.axes._subplots.AxesSubplot at 0x7f40218c4350>"
            ]
          },
          "metadata": {
            "tags": []
          },
          "execution_count": 41
        },
        {
          "output_type": "display_data",
          "data": {
            "image/png": "[encoded data removed]",
            "text/plain": [
              "<Figure size 432x288 with 1 Axes>"
            ]
          },
          "metadata": {
            "tags": [],
            "needs_background": "light"
          }
        }
      ]
    },
    {
      "cell_type": "code",
      "metadata": {
        "id": "gJOdK78z_Ln6",
        "colab": {
          "base_uri": "https://localhost:8080/",
          "height": 282
        },
        "outputId": "022a6c26-2e49-433d-c445-02581e4da497"
      },
      "source": [
        "sns.lineplot(x=reg_param,y=test)"
      ],
      "execution_count": null,
      "outputs": [
        {
          "output_type": "execute_result",
          "data": {
            "text/plain": [
              "<matplotlib.axes._subplots.AxesSubplot at 0x7f402181c510>"
            ]
          },
          "metadata": {
            "tags": []
          },
          "execution_count": 42
        },
        {
          "output_type": "display_data",
          "data": {
            "image/png": "[encoded data removed]",
            "text/plain": [
              "<Figure size 432x288 with 1 Axes>"
            ]
          },
          "metadata": {
            "tags": [],
            "needs_background": "light"
          }
        }
      ]
    },
    {
      "cell_type": "code",
      "metadata": {
        "id": "7Qx0uX-mAGfr",
        "colab": {
          "base_uri": "https://localhost:8080/"
        },
        "outputId": "862dc65f-1f7d-41b4-c0fb-00c2f52b247e"
      },
      "source": [
        "Log_model = LogisticRegression(C=1000)\n",
        "Log_model.fit(X_train,y_train)"
      ],
      "execution_count": null,
      "outputs": [
        {
          "output_type": "execute_result",
          "data": {
            "text/plain": [
              "LogisticRegression(C=1000, class_weight=None, dual=False, fit_intercept=True,\n",
              "                   intercept_scaling=1, l1_ratio=None, max_iter=100,\n",
              "                   multi_class='auto', n_jobs=None, penalty='l2',\n",
              "                   random_state=None, solver='lbfgs', tol=0.0001, verbose=0,\n",
              "                   warm_start=False)"
            ]
          },
          "metadata": {
            "tags": []
          },
          "execution_count": 43
        }
      ]
    },
    {
      "cell_type": "code",
      "metadata": {
        "id": "8NG4tOIxAMpu"
      },
      "source": [
        "  log_model_train = Log_model.predict(X_train)\n",
        "  log_model_test = Log_model.predict(X_test)\n",
        "  train_score = accuracy_score(y_train,log_model_train)\n",
        "  test_score = accuracy_score(y_test,log_model_test)"
      ],
      "execution_count": null,
      "outputs": []
    },
    {
      "cell_type": "code",
      "metadata": {
        "id": "ETj0GZUfAUNJ",
        "colab": {
          "base_uri": "https://localhost:8080/"
        },
        "outputId": "8e9c8cf2-b3fc-4e40-af6d-ce47bd7de737"
      },
      "source": [
        "train_score"
      ],
      "execution_count": null,
      "outputs": [
        {
          "output_type": "execute_result",
          "data": {
            "text/plain": [
              "0.9402581624905088"
            ]
          },
          "metadata": {
            "tags": []
          },
          "execution_count": 45
        }
      ]
    },
    {
      "cell_type": "code",
      "metadata": {
        "id": "PS1chSpsAXt0",
        "colab": {
          "base_uri": "https://localhost:8080/"
        },
        "outputId": "ff290d8b-a3ad-40c2-b453-69a4a4a3e794"
      },
      "source": [
        "test_score"
      ],
      "execution_count": null,
      "outputs": [
        {
          "output_type": "execute_result",
          "data": {
            "text/plain": [
              "0.5739795918367347"
            ]
          },
          "metadata": {
            "tags": []
          },
          "execution_count": 46
        }
      ]
    },
    {
      "cell_type": "code",
      "metadata": {
        "id": "JznZT2zdAZIY",
        "colab": {
          "base_uri": "https://localhost:8080/"
        },
        "outputId": "7d08ab0a-d9f0-4f8b-bcd0-208a177621c7"
      },
      "source": [
        "Log_model = LogisticRegression(C=10)\n",
        "Log_model.fit(X_train,y_train)\n",
        "log_model_train = Log_model.predict(X_train)\n",
        "log_model_test = Log_model.predict(X_test)\n",
        "log_train_score = accuracy_score(y_train,log_model_train)\n",
        "log_test_score = accuracy_score(y_test,log_model_test)\n",
        "print(log_train_score)\n",
        "print(log_test_score)"
      ],
      "execution_count": null,
      "outputs": [
        {
          "output_type": "stream",
          "text": [
            "0.911586940015186\n",
            "0.5824829931972789\n"
          ],
          "name": "stdout"
        }
      ]
    },
    {
      "cell_type": "markdown",
      "metadata": {
        "id": "3_32JMekBNS4"
      },
      "source": [
        "* We can see that the model is overfiting, Best Reguralization paramter is `C=10`."
      ]
    },
    {
      "cell_type": "code",
      "metadata": {
        "id": "Fxd_D1jbBDgb",
        "colab": {
          "base_uri": "https://localhost:8080/",
          "height": 282
        },
        "outputId": "0351d14f-37b7-4339-cf38-8c1bbbb294d9"
      },
      "source": [
        "print(sns.heatmap(confusion_matrix(y_test,log_model_test)))"
      ],
      "execution_count": null,
      "outputs": [
        {
          "output_type": "stream",
          "text": [
            "AxesSubplot(0.125,0.125;0.62x0.755)\n"
          ],
          "name": "stdout"
        },
        {
          "output_type": "display_data",
          "data": {
            "image/png": "[encoded data removed]",
            "text/plain": [
              "<Figure size 432x288 with 2 Axes>"
            ]
          },
          "metadata": {
            "tags": [],
            "needs_background": "light"
          }
        }
      ]
    },
    {
      "cell_type": "code",
      "metadata": {
        "id": "0ZzKVNZDCIJk",
        "colab": {
          "base_uri": "https://localhost:8080/"
        },
        "outputId": "0888f0f0-99a0-47de-da8a-9e94935dc647"
      },
      "source": [
        "print(classification_report(y_test,log_model_test))"
      ],
      "execution_count": null,
      "outputs": [
        {
          "output_type": "stream",
          "text": [
            "                    precision    recall  f1-score   support\n",
            "\n",
            "Extremely Negative       0.64      0.51      0.57      1096\n",
            "Extremely Positive       0.66      0.55      0.60      1325\n",
            "          Negative       0.51      0.54      0.53      1983\n",
            "           Neutral       0.63      0.69      0.66      1543\n",
            "          Positive       0.55      0.60      0.58      2285\n",
            "\n",
            "          accuracy                           0.58      8232\n",
            "         macro avg       0.60      0.58      0.59      8232\n",
            "      weighted avg       0.59      0.58      0.58      8232\n",
            "\n"
          ],
          "name": "stdout"
        }
      ]
    },
    {
      "cell_type": "markdown",
      "metadata": {
        "id": "fX0SUa2FFnBj"
      },
      "source": [
        "# Decision Tree"
      ]
    },
    {
      "cell_type": "code",
      "metadata": {
        "id": "CffO2n6iCXMa",
        "colab": {
          "base_uri": "https://localhost:8080/"
        },
        "outputId": "b0026294-32bd-4bd5-ba13-5618d18f4550"
      },
      "source": [
        "Decision_model = DecisionTreeClassifier()\n",
        "Decision_model.fit(X_train,y_train)\n",
        "\n",
        "Decision_model_train = Decision_model.predict(X_train)\n",
        "Decision_model_test = Decision_model.predict(X_test)\n",
        "Decision_train_score = accuracy_score(y_train,Decision_model_train)\n",
        "Decision_test_score = accuracy_score(y_test,Decision_model_test)\n",
        "print(Decision_train_score)\n",
        "print(Decision_test_score)"
      ],
      "execution_count": null,
      "outputs": [
        {
          "output_type": "stream",
          "text": [
            "0.9999088838268793\n",
            "0.44290573372206027\n"
          ],
          "name": "stdout"
        }
      ]
    },
    {
      "cell_type": "code",
      "metadata": {
        "id": "1TdugBkvNtdq",
        "colab": {
          "base_uri": "https://localhost:8080/"
        },
        "outputId": "a66fde28-0056-4dce-f4b7-4e6072fb07b0"
      },
      "source": [
        "print(classification_report(y_test,Decision_model_test))"
      ],
      "execution_count": null,
      "outputs": [
        {
          "output_type": "stream",
          "text": [
            "                    precision    recall  f1-score   support\n",
            "\n",
            "Extremely Negative       0.45      0.40      0.42      1096\n",
            "Extremely Positive       0.50      0.44      0.46      1325\n",
            "          Negative       0.39      0.38      0.39      1983\n",
            "           Neutral       0.48      0.58      0.53      1543\n",
            "          Positive       0.42      0.43      0.43      2285\n",
            "\n",
            "          accuracy                           0.44      8232\n",
            "         macro avg       0.45      0.44      0.44      8232\n",
            "      weighted avg       0.44      0.44      0.44      8232\n",
            "\n"
          ],
          "name": "stdout"
        }
      ]
    },
    {
      "cell_type": "markdown",
      "metadata": {
        "id": "1UVN95kdMwDM"
      },
      "source": [
        "## RandomForestClassifier"
      ]
    },
    {
      "cell_type": "code",
      "metadata": {
        "id": "EBek6eKBMJE4",
        "colab": {
          "base_uri": "https://localhost:8080/"
        },
        "outputId": "83591da1-2a15-4ab5-cfaa-f1bbd93f0051"
      },
      "source": [
        "Rand_model = RandomForestClassifier()\n",
        "Rand_model.fit(X_train,y_train)"
      ],
      "execution_count": null,
      "outputs": [
        {
          "output_type": "execute_result",
          "data": {
            "text/plain": [
              "RandomForestClassifier(bootstrap=True, ccp_alpha=0.0, class_weight=None,\n",
              "                       criterion='gini', max_depth=None, max_features='auto',\n",
              "                       max_leaf_nodes=None, max_samples=None,\n",
              "                       min_impurity_decrease=0.0, min_impurity_split=None,\n",
              "                       min_samples_leaf=1, min_samples_split=2,\n",
              "                       min_weight_fraction_leaf=0.0, n_estimators=100,\n",
              "                       n_jobs=None, oob_score=False, random_state=None,\n",
              "                       verbose=0, warm_start=False)"
            ]
          },
          "metadata": {
            "tags": []
          },
          "execution_count": 52
        }
      ]
    },
    {
      "cell_type": "code",
      "metadata": {
        "id": "wMsq20jvMRpj",
        "colab": {
          "base_uri": "https://localhost:8080/"
        },
        "outputId": "5464dc94-bfba-4967-e176-e4d13951daee"
      },
      "source": [
        "Rand_model_train = Rand_model.predict(X_train)\n",
        "Rand_model_test = Rand_model.predict(X_test)\n",
        "Rand_train_score = accuracy_score(y_train,Rand_model_train)\n",
        "Rand_test_score = accuracy_score(y_test,Rand_model_test)\n",
        "print(Rand_train_score)\n",
        "print(Rand_test_score)"
      ],
      "execution_count": null,
      "outputs": [
        {
          "output_type": "stream",
          "text": [
            "0.9999088838268793\n",
            "0.5289115646258503\n"
          ],
          "name": "stdout"
        }
      ]
    },
    {
      "cell_type": "code",
      "metadata": {
        "id": "_17wC5HuMk1v",
        "colab": {
          "base_uri": "https://localhost:8080/"
        },
        "outputId": "35eb8ead-b4b4-4966-be78-514f5e53639d"
      },
      "source": [
        "print(classification_report(y_test,Rand_model_test))"
      ],
      "execution_count": null,
      "outputs": [
        {
          "output_type": "stream",
          "text": [
            "                    precision    recall  f1-score   support\n",
            "\n",
            "Extremely Negative       0.67      0.36      0.47      1096\n",
            "Extremely Positive       0.66      0.36      0.47      1325\n",
            "          Negative       0.48      0.51      0.50      1983\n",
            "           Neutral       0.56      0.73      0.63      1543\n",
            "          Positive       0.48      0.59      0.53      2285\n",
            "\n",
            "          accuracy                           0.53      8232\n",
            "         macro avg       0.57      0.51      0.52      8232\n",
            "      weighted avg       0.55      0.53      0.52      8232\n",
            "\n"
          ],
          "name": "stdout"
        }
      ]
    },
    {
      "cell_type": "markdown",
      "metadata": {
        "id": "i-TBYlxdN9Ew"
      },
      "source": [
        "## GradientBoostingClassifier"
      ]
    },
    {
      "cell_type": "code",
      "metadata": {
        "id": "0BFKN2lyNzMF",
        "colab": {
          "base_uri": "https://localhost:8080/"
        },
        "outputId": "1bedc49f-31ff-4d64-8b11-3e05fb093c08"
      },
      "source": [
        "grad_model = GradientBoostingClassifier()\n",
        "grad_model.fit(X_train,y_train)\n",
        "\n",
        "grad_model_train = grad_model.predict(X_train)\n",
        "grad_model_test = grad_model.predict(X_test)\n",
        "grad_train_score = accuracy_score(y_train,grad_model_train)\n",
        "grad_test_score = accuracy_score(y_test,grad_model_test)\n",
        "print(grad_train_score)\n",
        "print(grad_test_score)"
      ],
      "execution_count": null,
      "outputs": [
        {
          "output_type": "stream",
          "text": [
            "0.5194533029612757\n",
            "0.4648931000971817\n"
          ],
          "name": "stdout"
        }
      ]
    },
    {
      "cell_type": "code",
      "metadata": {
        "id": "5dj-LwM3RE3P",
        "colab": {
          "base_uri": "https://localhost:8080/"
        },
        "outputId": "275e7b05-b701-4e2b-e6e9-987f5d16b259"
      },
      "source": [
        "print(classification_report(y_test,grad_model_test))"
      ],
      "execution_count": null,
      "outputs": [
        {
          "output_type": "stream",
          "text": [
            "                    precision    recall  f1-score   support\n",
            "\n",
            "Extremely Negative       0.58      0.42      0.49      1096\n",
            "Extremely Positive       0.64      0.44      0.52      1325\n",
            "          Negative       0.45      0.35      0.40      1983\n",
            "           Neutral       0.52      0.43      0.47      1543\n",
            "          Positive       0.38      0.62      0.47      2285\n",
            "\n",
            "          accuracy                           0.46      8232\n",
            "         macro avg       0.52      0.45      0.47      8232\n",
            "      weighted avg       0.49      0.46      0.46      8232\n",
            "\n"
          ],
          "name": "stdout"
        }
      ]
    },
    {
      "cell_type": "markdown",
      "metadata": {
        "id": "4R6T_KtfRqA1"
      },
      "source": [
        "## SVC"
      ]
    },
    {
      "cell_type": "code",
      "metadata": {
        "id": "zNN5toKSOGZa",
        "colab": {
          "base_uri": "https://localhost:8080/"
        },
        "outputId": "f7f1edc0-0fd8-4200-f7a1-9b9810d19095"
      },
      "source": [
        "support_model = SVC(C=10)\n",
        "support_model.fit(X_train,y_train)"
      ],
      "execution_count": null,
      "outputs": [
        {
          "output_type": "execute_result",
          "data": {
            "text/plain": [
              "SVC(C=10, break_ties=False, cache_size=200, class_weight=None, coef0=0.0,\n",
              "    decision_function_shape='ovr', degree=3, gamma='scale', kernel='rbf',\n",
              "    max_iter=-1, probability=False, random_state=None, shrinking=True,\n",
              "    tol=0.001, verbose=False)"
            ]
          },
          "metadata": {
            "tags": []
          },
          "execution_count": 57
        }
      ]
    },
    {
      "cell_type": "code",
      "metadata": {
        "id": "nXD-Y9B4RzWU",
        "colab": {
          "base_uri": "https://localhost:8080/"
        },
        "outputId": "0c678f6e-5261-4429-b9b0-b392eb999b6d"
      },
      "source": [
        "support_model_train = support_model.predict(X_train)\n",
        "support_model_test = support_model.predict(X_test)\n",
        "support_train_score = accuracy_score(y_train,support_model_train)\n",
        "support_test_score = accuracy_score(y_test,support_model_test)\n",
        "print(support_train_score)\n",
        "print(support_test_score)"
      ],
      "execution_count": null,
      "outputs": [
        {
          "output_type": "stream",
          "text": [
            "0.9997570235383447\n",
            "0.6039844509232264\n"
          ],
          "name": "stdout"
        }
      ]
    },
    {
      "cell_type": "code",
      "metadata": {
        "id": "4JsVHvSjSF0y",
        "colab": {
          "base_uri": "https://localhost:8080/"
        },
        "outputId": "30b2170e-3a5e-4343-d425-70c6bf788005"
      },
      "source": [
        "print(classification_report(y_test,support_model_test))"
      ],
      "execution_count": null,
      "outputs": [
        {
          "output_type": "stream",
          "text": [
            "                    precision    recall  f1-score   support\n",
            "\n",
            "Extremely Negative       0.72      0.47      0.57      1096\n",
            "Extremely Positive       0.73      0.50      0.60      1325\n",
            "          Negative       0.53      0.61      0.57      1983\n",
            "           Neutral       0.65      0.68      0.67      1543\n",
            "          Positive       0.56      0.67      0.61      2285\n",
            "\n",
            "          accuracy                           0.60      8232\n",
            "         macro avg       0.64      0.59      0.60      8232\n",
            "      weighted avg       0.62      0.60      0.60      8232\n",
            "\n"
          ],
          "name": "stdout"
        }
      ]
    },
    {
      "cell_type": "code",
      "metadata": {
        "id": "SMB0W1B_XFXl",
        "colab": {
          "base_uri": "https://localhost:8080/"
        },
        "outputId": "0b2f5176-7f7a-4377-f4e8-8ceda439a558"
      },
      "source": [
        "import xgboost as xgb\n",
        "\n",
        "\n",
        "xgboost_clf = xgb.XGBClassifier()\n",
        "\n",
        "xgboost_clf.fit(X_train, y_train)\n",
        "\n",
        "xgb_prediction = xgboost_clf.predict(X_test)\n",
        "xgb_accuracy = accuracy_score(y_test,xgb_prediction)\n",
        "print(\"Training accuracy Score    : \",xgboost_clf.score(X_train,y_train))\n",
        "print(\"Test accuracy Score : \",xgb_accuracy )\n",
        "print(classification_report(xgb_prediction,y_test))"
      ],
      "execution_count": null,
      "outputs": [
        {
          "output_type": "stream",
          "text": [
            "Training accuracy Score    :  0.48200455580865603\n",
            "Test accuracy Score :  0.4402332361516035\n",
            "                    precision    recall  f1-score   support\n",
            "\n",
            "Extremely Negative       0.36      0.56      0.44       694\n",
            "Extremely Positive       0.40      0.63      0.49       836\n",
            "          Negative       0.32      0.44      0.37      1464\n",
            "           Neutral       0.40      0.49      0.44      1275\n",
            "          Positive       0.63      0.36      0.46      3963\n",
            "\n",
            "          accuracy                           0.44      8232\n",
            "         macro avg       0.42      0.50      0.44      8232\n",
            "      weighted avg       0.49      0.44      0.44      8232\n",
            "\n"
          ],
          "name": "stdout"
        }
      ]
    },
    {
      "cell_type": "code",
      "metadata": {
        "id": "2tlOp_qI_G6V",
        "colab": {
          "base_uri": "https://localhost:8080/"
        },
        "outputId": "3b51999b-7210-49e9-aa3b-b7209704ac75"
      },
      "source": [
        "knn_model = KNeighborsClassifier(n_neighbors=4)\n",
        "knn_model.fit(X_train,y_train)"
      ],
      "execution_count": null,
      "outputs": [
        {
          "output_type": "execute_result",
          "data": {
            "text/plain": [
              "KNeighborsClassifier(algorithm='auto', leaf_size=30, metric='minkowski',\n",
              "                     metric_params=None, n_jobs=None, n_neighbors=4, p=2,\n",
              "                     weights='uniform')"
            ]
          },
          "metadata": {
            "tags": []
          },
          "execution_count": 61
        }
      ]
    },
    {
      "cell_type": "code",
      "metadata": {
        "id": "z6pXYletCvqA"
      },
      "source": [
        "test_knn = knn_model.predict(X_test)"
      ],
      "execution_count": null,
      "outputs": []
    },
    {
      "cell_type": "code",
      "metadata": {
        "id": "g9HqRflQEw4u"
      },
      "source": [
        "knn_test_score = accuracy_score(y_test,test_knn)"
      ],
      "execution_count": null,
      "outputs": []
    },
    {
      "cell_type": "code",
      "metadata": {
        "id": "KCA1l-_wE2_m"
      },
      "source": [
        "models = ['LogisticRegression','DecisionTree','RandomForestClassifier','GradientBoostingClassifier','SVC','XGboost','KNN']"
      ],
      "execution_count": null,
      "outputs": []
    },
    {
      "cell_type": "code",
      "metadata": {
        "id": "EI-CkTqXvRdz"
      },
      "source": [
        "model_score = pd.DataFrame(index = models,columns=['Test_score'])\n",
        "test_score = [log_test_score,Decision_test_score,Rand_test_score,grad_test_score,support_test_score,xgb_accuracy,knn_test_score]"
      ],
      "execution_count": null,
      "outputs": []
    },
    {
      "cell_type": "code",
      "metadata": {
        "id": "CLF3u3jNvRbZ",
        "colab": {
          "base_uri": "https://localhost:8080/",
          "height": 263
        },
        "outputId": "417f0b5b-2049-4ca4-ee3f-43ff77cafdb9"
      },
      "source": [
        "model_score['Test_score'] = test_score\n",
        "model_score.sort_values(by='Test_score',ascending=False)"
      ],
      "execution_count": null,
      "outputs": [
        {
          "output_type": "execute_result",
          "data": {
            "text/html": [
              "<div>\n",
              "<style scoped>\n",
              "    .dataframe tbody tr th:only-of-type {\n",
              "        vertical-align: middle;\n",
              "    }\n",
              "\n",
              "    .dataframe tbody tr th {\n",
              "        vertical-align: top;\n",
              "    }\n",
              "\n",
              "    .dataframe thead th {\n",
              "        text-align: right;\n",
              "    }\n",
              "</style>\n",
              "<table border=\"1\" class=\"dataframe\">\n",
              "  <thead>\n",
              "    <tr style=\"text-align: right;\">\n",
              "      <th></th>\n",
              "      <th>Test_score</th>\n",
              "    </tr>\n",
              "  </thead>\n",
              "  <tbody>\n",
              "    <tr>\n",
              "      <th>SVC</th>\n",
              "      <td>0.603984</td>\n",
              "    </tr>\n",
              "    <tr>\n",
              "      <th>LogisticRegression</th>\n",
              "      <td>0.582483</td>\n",
              "    </tr>\n",
              "    <tr>\n",
              "      <th>RandomForestClassifier</th>\n",
              "      <td>0.528912</td>\n",
              "    </tr>\n",
              "    <tr>\n",
              "      <th>GradientBoostingClassifier</th>\n",
              "      <td>0.464893</td>\n",
              "    </tr>\n",
              "    <tr>\n",
              "      <th>DecisionTree</th>\n",
              "      <td>0.442906</td>\n",
              "    </tr>\n",
              "    <tr>\n",
              "      <th>XGboost</th>\n",
              "      <td>0.440233</td>\n",
              "    </tr>\n",
              "    <tr>\n",
              "      <th>KNN</th>\n",
              "      <td>0.214893</td>\n",
              "    </tr>\n",
              "  </tbody>\n",
              "</table>\n",
              "</div>"
            ],
            "text/plain": [
              "                            Test_score\n",
              "SVC                           0.603984\n",
              "LogisticRegression            0.582483\n",
              "RandomForestClassifier        0.528912\n",
              "GradientBoostingClassifier    0.464893\n",
              "DecisionTree                  0.442906\n",
              "XGboost                       0.440233\n",
              "KNN                           0.214893"
            ]
          },
          "metadata": {
            "tags": []
          },
          "execution_count": 66
        }
      ]
    },
    {
      "cell_type": "markdown",
      "metadata": {
        "id": "QvRjTm_0Cbch"
      },
      "source": [
        "Support vector Machine is performing well on the Dataset."
      ]
    },
    {
      "cell_type": "code",
      "metadata": {
        "id": "fc5DuvwbvRYG"
      },
      "source": [
        ""
      ],
      "execution_count": null,
      "outputs": []
    }
  ]
}